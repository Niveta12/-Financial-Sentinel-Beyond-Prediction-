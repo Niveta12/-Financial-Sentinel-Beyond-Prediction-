{
  "nbformat": 4,
  "nbformat_minor": 0,
  "metadata": {
    "colab": {
      "provenance": []
    },
    "kernelspec": {
      "name": "python3",
      "display_name": "Python 3"
    },
    "language_info": {
      "name": "python"
    }
  },
  "cells": [
    {
      "cell_type": "code",
      "source": [
        "!pip install openai"
      ],
      "metadata": {
        "colab": {
          "base_uri": "https://localhost:8080/"
        },
        "id": "fecB9dY5dEts",
        "outputId": "e2f39c8b-9a7a-4fba-eaa6-8f0280083059"
      },
      "execution_count": null,
      "outputs": [
        {
          "output_type": "stream",
          "name": "stdout",
          "text": [
            "Collecting openai\n",
            "  Downloading openai-1.3.8-py3-none-any.whl (221 kB)\n",
            "\u001b[?25l     \u001b[90m━━━━━━━━━━━━━━━━━━━━━━━━━━━━━━━━━━━━━━━━\u001b[0m \u001b[32m0.0/221.5 kB\u001b[0m \u001b[31m?\u001b[0m eta \u001b[36m-:--:--\u001b[0m\r\u001b[2K     \u001b[91m━━━━━━━━━━━━━━━━━━━━━━━━━\u001b[0m\u001b[91m╸\u001b[0m\u001b[90m━━━━━━━━━━━━━━\u001b[0m \u001b[32m143.4/221.5 kB\u001b[0m \u001b[31m4.1 MB/s\u001b[0m eta \u001b[36m0:00:01\u001b[0m\r\u001b[2K     \u001b[90m━━━━━━━━━━━━━━━━━━━━━━━━━━━━━━━━━━━━━━━━\u001b[0m \u001b[32m221.5/221.5 kB\u001b[0m \u001b[31m4.4 MB/s\u001b[0m eta \u001b[36m0:00:00\u001b[0m\n",
            "\u001b[?25hRequirement already satisfied: anyio<5,>=3.5.0 in /usr/local/lib/python3.10/dist-packages (from openai) (3.7.1)\n",
            "Requirement already satisfied: distro<2,>=1.7.0 in /usr/lib/python3/dist-packages (from openai) (1.7.0)\n",
            "Collecting httpx<1,>=0.23.0 (from openai)\n",
            "  Downloading httpx-0.25.2-py3-none-any.whl (74 kB)\n",
            "\u001b[2K     \u001b[90m━━━━━━━━━━━━━━━━━━━━━━━━━━━━━━━━━━━━━━━━\u001b[0m \u001b[32m75.0/75.0 kB\u001b[0m \u001b[31m7.5 MB/s\u001b[0m eta \u001b[36m0:00:00\u001b[0m\n",
            "\u001b[?25hRequirement already satisfied: pydantic<3,>=1.9.0 in /usr/local/lib/python3.10/dist-packages (from openai) (1.10.13)\n",
            "Requirement already satisfied: sniffio in /usr/local/lib/python3.10/dist-packages (from openai) (1.3.0)\n",
            "Requirement already satisfied: tqdm>4 in /usr/local/lib/python3.10/dist-packages (from openai) (4.66.1)\n",
            "Requirement already satisfied: typing-extensions<5,>=4.5 in /usr/local/lib/python3.10/dist-packages (from openai) (4.5.0)\n",
            "Requirement already satisfied: idna>=2.8 in /usr/local/lib/python3.10/dist-packages (from anyio<5,>=3.5.0->openai) (3.6)\n",
            "Requirement already satisfied: exceptiongroup in /usr/local/lib/python3.10/dist-packages (from anyio<5,>=3.5.0->openai) (1.2.0)\n",
            "Requirement already satisfied: certifi in /usr/local/lib/python3.10/dist-packages (from httpx<1,>=0.23.0->openai) (2023.11.17)\n",
            "Collecting httpcore==1.* (from httpx<1,>=0.23.0->openai)\n",
            "  Downloading httpcore-1.0.2-py3-none-any.whl (76 kB)\n",
            "\u001b[2K     \u001b[90m━━━━━━━━━━━━━━━━━━━━━━━━━━━━━━━━━━━━━━━━\u001b[0m \u001b[32m76.9/76.9 kB\u001b[0m \u001b[31m9.4 MB/s\u001b[0m eta \u001b[36m0:00:00\u001b[0m\n",
            "\u001b[?25hCollecting h11<0.15,>=0.13 (from httpcore==1.*->httpx<1,>=0.23.0->openai)\n",
            "  Downloading h11-0.14.0-py3-none-any.whl (58 kB)\n",
            "\u001b[2K     \u001b[90m━━━━━━━━━━━━━━━━━━━━━━━━━━━━━━━━━━━━━━━━\u001b[0m \u001b[32m58.3/58.3 kB\u001b[0m \u001b[31m7.4 MB/s\u001b[0m eta \u001b[36m0:00:00\u001b[0m\n",
            "\u001b[?25hInstalling collected packages: h11, httpcore, httpx, openai\n",
            "\u001b[31mERROR: pip's dependency resolver does not currently take into account all the packages that are installed. This behaviour is the source of the following dependency conflicts.\n",
            "llmx 0.0.15a0 requires cohere, which is not installed.\n",
            "llmx 0.0.15a0 requires tiktoken, which is not installed.\u001b[0m\u001b[31m\n",
            "\u001b[0mSuccessfully installed h11-0.14.0 httpcore-1.0.2 httpx-0.25.2 openai-1.3.8\n"
          ]
        }
      ]
    },
    {
      "cell_type": "code",
      "source": [
        "data = \"\"\"\n",
        "company_name,status_label,year,X1,X2,X3,X4,X5,X6,X7,X8,X9,X10,X11,X12,X13,X14,X15,X16,X17,X18\n",
        "C_1,alive,1999,511.267,833.107,18.373,89.031,336.018,35.163,128.348,372.7519,1024.333,740.998,180.447,70.658,191.226,163.816,201.026,1024.333,401.483,935.302\n",
        "C_1,alive,2000,485.856,713.811,18.577,64.367,320.59,18.531,115.187,377.118,874.255,701.854,179.987,45.79,160.444,125.392,204.065,874.255,361.642,809.888\n",
        "C_1,alive,2001,436.656,526.477,22.496,27.207,286.588,-58.939,77.528,364.5928,638.721,710.199,217.699,4.711,112.244,150.464,139.603,638.721,399.964,611.514\n",
        "C_1,alive,2002,396.412,496.747,27.172,30.745,259.954,-12.41,66.322,143.3295,606.337,686.621,164.658,3.573,109.59,203.575,124.106,606.337,391.633,575.592\n",
        "C_1,alive,2003,432.204,523.302,26.68,47.491,247.245,3.504,104.661,308.9071,651.958,709.292,248.666,20.811,128.656,131.261,131.884,651.958,407.608,604.467\n",
        "C_1,alive,2004,474.542,598.172,27.95,61.774,255.477,15.453,127.121,522.6794,747.848,732.23,227.159,33.824,149.676,160.025,142.45,747.848,417.486,686.074\n",
        "C_1,alive,2005,624.454,704.081,29.222,91.877,323.592,35.163,136.272,882.6283,897.284,978.819,318.576,62.655,193.203,187.788,183.55,897.284,556.102,805.407\n",
        "C_1,alive,2006,645.721,837.171,32.199,118.907,342.593,58.66,181.691,1226.1925,1061.169,1067.633,253.611,86.708,223.998,256.506,242.153,1061.169,573.39,942.262\n",
        "C_1,alive,2007,783.431,1080.895,39.952,168.522,435.608,75.144,202.472,747.5434,1384.919,1362.01,507.918,128.57,304.024,218.499,318.184,1384.919,776.755,1216.397\n",
        "C_1,alive,2008,851.312,1110.677,40.551,166.08,477.424,78.651,227.3,571.5948,1423.976,1377.511,392.984,125.529,313.299,254.418,385.851,1423.976,720.616,1257.896\n",
        "C_1,alive,2009,863.429,1065.902,38.93,134.345,496.904,44.628,238.466,777.8348,1352.151,1501.042,336.191,95.415,286.249,325.55,389.641,1352.151,754.692,1217.806\n",
        "C_1,alive,2010,913.985,1408.071,59.296,196.312,507.274,69.826,296.489,1049.8206,1775.782,1703.727,329.802,137.016,367.711,416.01,467.485,1775.782,868.438,1579.47\n",
        "C_1,alive,2011,1063.272,1662.408,80.333,222.693,599.752,67.723,324.879,485.2897,2074.498,2195.653,669.489,142.36,412.09,473.226,486.582,2074.498,1329.631,1851.805\n",
        "C_1,alive,2012,1033.7,1714.5,108.6,245.2,582.9,55,315.4,790.0029,2167.1,2136.9,622.2,136.6,452.6,389,542.4,2167.1,1217.4,1921.9\n",
        "C_1,alive,2013,1116.9,1581.4,113.4,256,632.9,72.9,297.9,961.308,2035,2199.5,564.3,142.6,453.6,402.1,616.7,2035,1198.8,1779\n",
        "C_1,alive,2014,954.1,1342.7,92.3,83.7,566.7,10.2,231.1,1046.3954,1594.3,1515,85,-8.6,251.6,412,603.9,1594.3,669.9,1510.6\n",
        "C_1,alive,2015,873.1,1354.9,70.8,136.9,563.7,47.7,242.7,842.5112,1662.6,1442.1,136.1,66.1,307.7,329,637.2,1662.6,576.3,1525.7\n",
        "C_1,alive,2016,888.5,1422.7,71,148.2,601.1,56.5,251.4,1200.3288,1767.6,1504.1,155.3,77.2,344.9,335.1,688,1767.6,589.9,1619.4\n",
        "C_1,alive,2017,942.7,1413.2,40.5,126.5,547.9,15.6,203,1551.458,1748.3,1524.7,177.2,86,335.1,333.3,701.2,1748.3,588.4,1621.8\n",
        "\"\"\"\n",
        "\n",
        "api_key = 'Your API key'\n",
        "model = 'asst_Id(give yours)'\n",
        "\n",
        "prompt = \"Build an anti-bankruptcy policy for this data:\\n\" + data"
      ],
      "metadata": {
        "id": "Your ID"
      },
      "execution_count": null,
      "outputs": []
    },
    {
      "cell_type": "code",
      "source": [
        "import openai\n",
        "client = openai.OpenAI(api_key=api_key)\n",
        "messages = [\n",
        "    {\"role\": \"system\", \"content\": \"You are a helpful assistant.\"},\n",
        "    {\"role\": \"user\", \"content\": prompt}\n",
        "]\n",
        "\n",
        "response = client.chat.completions.create(\n",
        "  model=\"gpt-3.5-turbo-0301\", #use \"gpt-4-1106-preview\" for advanced answewrs\n",
        "  messages=messages,\n",
        "  temperature=1,\n",
        "  max_tokens=1028, #increase length to get more content\n",
        "  top_p=1,\n",
        "  frequency_penalty=0,\n",
        "  presence_penalty=0\n",
        ")\n",
        "\n",
        "assistant_response = response.choices[0].message.content\n",
        "\n",
        "print(assistant_response)\n",
        "\n"
      ],
      "metadata": {
        "colab": {
          "base_uri": "https://localhost:8080/"
        },
        "id": "ObBCWThTi0Hx",
        "outputId": "1322ba96-90fb-4761-fbf6-edbbe7d7a176"
      },
      "execution_count": null,
      "outputs": [
        {
          "output_type": "stream",
          "name": "stdout",
          "text": [
            "An anti-bankruptcy policy can be built for this data by conducting a financial analysis of the company over the years through the following steps:\n",
            "\n",
            "1. Calculate financial ratios for each year such as liquidity ratios, profitability ratios, efficiency ratios and solvency ratios.\n",
            "\n",
            "2. Analyze the trend of each ratio over the years to identify any red flags or areas of concern. \n",
            "\n",
            "3. Compare the company's ratios with industry benchmarks to see how it performs relative to its peers.\n",
            "\n",
            "4. Identify any significant changes that could impact the company's financial health such as a decrease in sales or an increase in expenses.\n",
            "\n",
            "5. Develop a plan to address any financial weaknesses or potential risks, such as reducing expenses, increasing sales or securing additional funding.\n",
            "\n",
            "6. Monitor the company's financial performance regularly to ensure that it stays on track and adjust the plan if necessary.\n",
            "\n",
            "By regularly monitoring the company's financial performance and implementing proper risk management measures and policies, the company should be able to avoid bankruptcy and maintain financial stability.\n"
          ]
        }
      ]
    }
  ]
}
